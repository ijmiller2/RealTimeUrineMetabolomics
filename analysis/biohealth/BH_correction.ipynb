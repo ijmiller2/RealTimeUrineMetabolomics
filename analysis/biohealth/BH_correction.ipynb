{
 "cells": [
  {
   "cell_type": "code",
   "execution_count": 2,
   "metadata": {},
   "outputs": [],
   "source": [
    "import pandas as pd\n",
    "import pingouin as pg\n",
    "import copy"
   ]
  },
  {
   "cell_type": "code",
   "execution_count": 3,
   "metadata": {},
   "outputs": [],
   "source": [
    "data_path = \"../../data/correlation_results.xlsx\"\n",
    "rm_corr_df = pd.read_excel(data_path, sheet_name=\"log2_rm_corr_p-vals\")"
   ]
  },
  {
   "cell_type": "code",
   "execution_count": 4,
   "metadata": {},
   "outputs": [
    {
     "data": {
      "text/html": [
       "<div>\n",
       "<style scoped>\n",
       "    .dataframe tbody tr th:only-of-type {\n",
       "        vertical-align: middle;\n",
       "    }\n",
       "\n",
       "    .dataframe tbody tr th {\n",
       "        vertical-align: top;\n",
       "    }\n",
       "\n",
       "    .dataframe thead th {\n",
       "        text-align: right;\n",
       "    }\n",
       "</style>\n",
       "<table border=\"1\" class=\"dataframe\">\n",
       "  <thead>\n",
       "    <tr style=\"text-align: right;\">\n",
       "      <th></th>\n",
       "      <th>Calories</th>\n",
       "      <th>Calories from Alcohol</th>\n",
       "      <th>Carbohydrates (g)</th>\n",
       "      <th>Cholesterol (mg)</th>\n",
       "      <th>Coffee (fl. oz)</th>\n",
       "      <th>Fat (g)</th>\n",
       "      <th>Fiber (g)</th>\n",
       "      <th>Protein (g)</th>\n",
       "      <th>Saturated Fat (g)</th>\n",
       "      <th>Sodium (mg)</th>\n",
       "      <th>Sugars (g)</th>\n",
       "    </tr>\n",
       "  </thead>\n",
       "  <tbody>\n",
       "    <tr>\n",
       "      <th>2-Aminoadipic acid 3 TMS</th>\n",
       "      <td>0.346114</td>\n",
       "      <td>0.040666</td>\n",
       "      <td>0.660778</td>\n",
       "      <td>0.938215</td>\n",
       "      <td>0.368935</td>\n",
       "      <td>0.661094</td>\n",
       "      <td>0.241725</td>\n",
       "      <td>0.522470</td>\n",
       "      <td>0.659140</td>\n",
       "      <td>0.302596</td>\n",
       "      <td>0.817421</td>\n",
       "    </tr>\n",
       "    <tr>\n",
       "      <th>2-Aminobutyric acid 2 TMS</th>\n",
       "      <td>0.323742</td>\n",
       "      <td>0.782639</td>\n",
       "      <td>0.622912</td>\n",
       "      <td>0.591880</td>\n",
       "      <td>0.842743</td>\n",
       "      <td>0.103634</td>\n",
       "      <td>0.785474</td>\n",
       "      <td>0.828976</td>\n",
       "      <td>0.174642</td>\n",
       "      <td>0.620244</td>\n",
       "      <td>0.895229</td>\n",
       "    </tr>\n",
       "    <tr>\n",
       "      <th>2-Deoxypentonic acid</th>\n",
       "      <td>0.622862</td>\n",
       "      <td>0.145972</td>\n",
       "      <td>0.613688</td>\n",
       "      <td>0.984463</td>\n",
       "      <td>0.506511</td>\n",
       "      <td>0.474853</td>\n",
       "      <td>0.422829</td>\n",
       "      <td>0.396483</td>\n",
       "      <td>0.420227</td>\n",
       "      <td>0.466468</td>\n",
       "      <td>0.298138</td>\n",
       "    </tr>\n",
       "    <tr>\n",
       "      <th>2-Hydroxy-2-methylbutyric acid 2 TMS</th>\n",
       "      <td>0.456520</td>\n",
       "      <td>0.000985</td>\n",
       "      <td>0.241527</td>\n",
       "      <td>0.214096</td>\n",
       "      <td>0.719162</td>\n",
       "      <td>0.431161</td>\n",
       "      <td>0.602501</td>\n",
       "      <td>0.416891</td>\n",
       "      <td>0.232730</td>\n",
       "      <td>0.312489</td>\n",
       "      <td>0.663136</td>\n",
       "    </tr>\n",
       "    <tr>\n",
       "      <th>2-Hydroxyglutaric acid 3 TMS</th>\n",
       "      <td>0.823202</td>\n",
       "      <td>0.109155</td>\n",
       "      <td>0.834357</td>\n",
       "      <td>0.066859</td>\n",
       "      <td>0.015137</td>\n",
       "      <td>0.001783</td>\n",
       "      <td>0.134985</td>\n",
       "      <td>0.037263</td>\n",
       "      <td>0.004103</td>\n",
       "      <td>0.106972</td>\n",
       "      <td>0.548968</td>\n",
       "    </tr>\n",
       "  </tbody>\n",
       "</table>\n",
       "</div>"
      ],
      "text/plain": [
       "                                      Calories  Calories from Alcohol  \\\n",
       "2-Aminoadipic acid 3 TMS              0.346114               0.040666   \n",
       "2-Aminobutyric acid 2 TMS             0.323742               0.782639   \n",
       "2-Deoxypentonic acid                  0.622862               0.145972   \n",
       "2-Hydroxy-2-methylbutyric acid 2 TMS  0.456520               0.000985   \n",
       "2-Hydroxyglutaric acid 3 TMS          0.823202               0.109155   \n",
       "\n",
       "                                      Carbohydrates (g)  Cholesterol (mg)  \\\n",
       "2-Aminoadipic acid 3 TMS                       0.660778          0.938215   \n",
       "2-Aminobutyric acid 2 TMS                      0.622912          0.591880   \n",
       "2-Deoxypentonic acid                           0.613688          0.984463   \n",
       "2-Hydroxy-2-methylbutyric acid 2 TMS           0.241527          0.214096   \n",
       "2-Hydroxyglutaric acid 3 TMS                   0.834357          0.066859   \n",
       "\n",
       "                                      Coffee (fl. oz)   Fat (g)  Fiber (g)  \\\n",
       "2-Aminoadipic acid 3 TMS                     0.368935  0.661094   0.241725   \n",
       "2-Aminobutyric acid 2 TMS                    0.842743  0.103634   0.785474   \n",
       "2-Deoxypentonic acid                         0.506511  0.474853   0.422829   \n",
       "2-Hydroxy-2-methylbutyric acid 2 TMS         0.719162  0.431161   0.602501   \n",
       "2-Hydroxyglutaric acid 3 TMS                 0.015137  0.001783   0.134985   \n",
       "\n",
       "                                      Protein (g)  Saturated Fat (g)  \\\n",
       "2-Aminoadipic acid 3 TMS                 0.522470           0.659140   \n",
       "2-Aminobutyric acid 2 TMS                0.828976           0.174642   \n",
       "2-Deoxypentonic acid                     0.396483           0.420227   \n",
       "2-Hydroxy-2-methylbutyric acid 2 TMS     0.416891           0.232730   \n",
       "2-Hydroxyglutaric acid 3 TMS             0.037263           0.004103   \n",
       "\n",
       "                                      Sodium (mg)  Sugars (g)  \n",
       "2-Aminoadipic acid 3 TMS                 0.302596    0.817421  \n",
       "2-Aminobutyric acid 2 TMS                0.620244    0.895229  \n",
       "2-Deoxypentonic acid                     0.466468    0.298138  \n",
       "2-Hydroxy-2-methylbutyric acid 2 TMS     0.312489    0.663136  \n",
       "2-Hydroxyglutaric acid 3 TMS             0.106972    0.548968  "
      ]
     },
     "execution_count": 4,
     "metadata": {},
     "output_type": "execute_result"
    }
   ],
   "source": [
    "rm_corr_df.head()"
   ]
  },
  {
   "cell_type": "code",
   "execution_count": 5,
   "metadata": {},
   "outputs": [
    {
     "data": {
      "text/plain": [
       "array([[<matplotlib.axes._subplots.AxesSubplot object at 0x7fa2184872b0>,\n",
       "        <matplotlib.axes._subplots.AxesSubplot object at 0x7fa210bf89e8>,\n",
       "        <matplotlib.axes._subplots.AxesSubplot object at 0x7fa210c1d390>],\n",
       "       [<matplotlib.axes._subplots.AxesSubplot object at 0x7fa1e8a67cf8>,\n",
       "        <matplotlib.axes._subplots.AxesSubplot object at 0x7fa1d82af6a0>,\n",
       "        <matplotlib.axes._subplots.AxesSubplot object at 0x7fa1d82dc048>],\n",
       "       [<matplotlib.axes._subplots.AxesSubplot object at 0x7fa24838f9b0>,\n",
       "        <matplotlib.axes._subplots.AxesSubplot object at 0x7fa2483bb390>,\n",
       "        <matplotlib.axes._subplots.AxesSubplot object at 0x7fa2483bb3c8>],\n",
       "       [<matplotlib.axes._subplots.AxesSubplot object at 0x7fa2096f7630>,\n",
       "        <matplotlib.axes._subplots.AxesSubplot object at 0x7fa20971cf98>,\n",
       "        <matplotlib.axes._subplots.AxesSubplot object at 0x7fa209746940>]],\n",
       "      dtype=object)"
      ]
     },
     "execution_count": 5,
     "metadata": {},
     "output_type": "execute_result"
    },
    {
     "data": {
      "image/png": "[encoded data removed]",
      "text/plain": [
       "<Figure size 720x720 with 12 Axes>"
      ]
     },
     "metadata": {},
     "output_type": "display_data"
    }
   ],
   "source": [
    "rm_corr_df.hist(figsize=(10,10))"
   ]
  },
  {
   "cell_type": "code",
   "execution_count": 6,
   "metadata": {},
   "outputs": [
    {
     "data": {
      "text/plain": [
       "Index(['Calories', 'Calories from Alcohol', 'Carbohydrates (g)',\n",
       "       'Cholesterol (mg)', 'Coffee (fl. oz)', 'Fat (g)', 'Fiber (g)',\n",
       "       'Protein (g)', 'Saturated Fat (g)', 'Sodium (mg)', 'Sugars (g)'],\n",
       "      dtype='object')"
      ]
     },
     "execution_count": 6,
     "metadata": {},
     "output_type": "execute_result"
    }
   ],
   "source": [
    "rm_corr_df.columns"
   ]
  },
  {
   "cell_type": "code",
   "execution_count": 7,
   "metadata": {},
   "outputs": [],
   "source": [
    "reject_null, q = pg.fdr(rm_corr_df['Calories'])"
   ]
  },
  {
   "cell_type": "code",
   "execution_count": 8,
   "metadata": {},
   "outputs": [
    {
     "data": {
      "text/plain": [
       "144"
      ]
     },
     "execution_count": 8,
     "metadata": {},
     "output_type": "execute_result"
    }
   ],
   "source": [
    "len(rm_corr_df[rm_corr_df['Calories'] < 0.05])"
   ]
  },
  {
   "cell_type": "code",
   "execution_count": 9,
   "metadata": {},
   "outputs": [
    {
     "data": {
      "text/plain": [
       "array([0.65630971, 0.63381902, 0.83278493, 0.73201512, 0.94256855,\n",
       "       0.86463962, 0.13828317, 0.5528457 , 0.22481611, 0.75875611,\n",
       "       0.04757484, 0.96441925, 0.13412658, 0.95364441, 0.76095482,\n",
       "       0.70045129, 0.6082931 , 0.59106582, 0.6082931 , 0.74213245,\n",
       "       0.11012697, 0.19438785, 0.96564189, 0.13412658, 0.02703665,\n",
       "       0.2352957 , 0.99628229, 0.98524104, 0.53742684, 0.75061622,\n",
       "       0.82057981, 0.91127397, 0.81586263, 0.13784651, 0.53622285,\n",
       "       0.55505694, 0.53688727, 0.87592792, 0.96576202, 0.78111183,\n",
       "       0.96576202, 0.17991414, 0.05042479, 0.78111183, 0.95881212,\n",
       "       0.01986972, 0.53742684, 0.76553781, 0.79795249, 0.25650748,\n",
       "       0.68982674, 0.47537685, 0.73562263, 0.96576202, 0.32872342,\n",
       "       0.68982674, 0.96791628, 0.92194214, 0.73201512, 0.87569648,\n",
       "       0.96791628, 0.69432472, 0.92194214, 0.0858823 , 0.53742684,\n",
       "       0.21973325, 0.83044578, 0.96441925, 0.73201512, 0.67650896,\n",
       "       0.86235787, 0.53622285, 0.69281732, 0.02703665, 0.78111183,\n",
       "       0.79288633, 0.24527938, 0.35452704, 0.96791628, 0.04757484,\n",
       "       0.64250162, 0.97028394, 0.88514158, 0.11143437, 0.91127397,\n",
       "       0.96576202, 0.31289757, 0.97931054, 0.40351606, 0.27315548,\n",
       "       0.34955105, 0.06673838, 0.96791628, 0.86009611, 0.53688727,\n",
       "       0.6082931 , 0.06956955, 0.95364441, 0.53445686, 0.20630771,\n",
       "       0.09416583, 0.52453203, 0.64870125, 0.07759293, 0.86235787,\n",
       "       0.26261026, 0.13683326, 0.54531911, 0.04757484, 0.78111183,\n",
       "       0.01334443, 0.82057981, 0.13412658, 0.98529025, 0.21011889,\n",
       "       0.45835578, 0.92194214, 0.32872342, 0.70927831, 0.20864611,\n",
       "       0.59339486, 0.96441925, 0.70927831, 0.17991414, 0.05735163,\n",
       "       0.12055883, 0.76553781, 0.07759293, 0.78111183, 0.83044578,\n",
       "       0.99877148, 0.70927831, 0.49929566, 0.73562263, 0.96564189,\n",
       "       0.8660597 , 0.68133904, 0.72229694, 0.07719751, 0.91977536,\n",
       "       0.73201512, 0.88514158, 0.96441925, 0.86771257, 0.53688727,\n",
       "       0.32519892, 0.04757484, 0.13784651, 0.0629338 , 0.20864611,\n",
       "       0.97931054, 0.44619668, 0.59345282, 0.74213245, 0.7042059 ,\n",
       "       0.86979603, 0.68982674, 0.32519892, 0.04757484, 0.93802606,\n",
       "       0.92895679, 0.59066115, 0.70139649, 0.13784651, 0.76879624,\n",
       "       0.93617847, 0.33157304, 0.39104993, 0.37934221, 0.05042479,\n",
       "       0.64870125, 0.6082931 , 0.41178196, 0.86235787, 0.80623619,\n",
       "       0.90866951, 0.91375474, 0.32519892, 0.1879459 , 0.03516547,\n",
       "       0.59345282, 0.56738214, 0.06922069, 0.96576202, 0.52453203,\n",
       "       0.26261026, 0.83648193, 0.47537685, 0.84186956, 0.54820379,\n",
       "       0.05735163, 0.58980002, 0.63451497, 0.3225142 , 0.33795969,\n",
       "       0.79616263, 0.73201512, 0.20864611, 0.67854736, 0.99358813,\n",
       "       0.65515413, 0.88616651, 0.83044578, 0.91375474, 0.73201512,\n",
       "       0.71131578, 0.88616651, 0.78111183, 0.79795249, 0.78707157,\n",
       "       0.94712029, 0.70927831, 0.53742684, 0.58551035, 0.96576202,\n",
       "       0.86979603, 0.53742684, 0.88616651, 0.40351606, 0.9777219 ,\n",
       "       0.67854736, 0.87569648, 0.91375474, 0.34955105, 0.96791628,\n",
       "       0.73201512, 0.90866951, 0.95364441, 0.92194214, 0.0711813 ,\n",
       "       0.94256855, 0.44985937, 0.65515413, 0.94256855, 0.58914442,\n",
       "       0.06338251, 0.33795969, 0.20630771, 0.73201512, 0.76784898,\n",
       "       0.13412658, 0.38267263, 0.1930169 , 0.47537685, 0.88514158,\n",
       "       0.47537685, 0.78111183, 0.99023117, 0.58914442, 0.93328074,\n",
       "       0.72229694, 0.14709006, 0.13784651, 0.44985937, 0.10421519,\n",
       "       0.96564189, 0.09734655, 0.20510775, 0.64250162, 0.77032209,\n",
       "       0.76263994, 0.7042059 , 0.78111183, 0.33789573, 0.16840832,\n",
       "       0.72229694, 0.0629338 , 0.75406027, 0.96779513, 0.33157304,\n",
       "       0.0629338 , 0.48065467, 0.04586737, 0.18595494, 0.73201512,\n",
       "       0.27411694, 0.7758894 , 0.96791628, 0.25934824, 0.73562263,\n",
       "       0.24087478, 0.93802606, 0.78111183, 0.68664004, 0.46069431,\n",
       "       0.69468838, 0.04757484, 0.96791628, 0.53742684, 0.07853421,\n",
       "       0.76879624, 0.58914442, 0.56950197, 0.96576202, 0.98190703,\n",
       "       0.04757484, 0.16074719, 0.39426629, 0.96576202, 0.04586737,\n",
       "       0.4917364 , 0.06338251, 0.69468838, 0.04757484, 0.32519892,\n",
       "       0.86235787, 0.72229694, 0.75574029, 0.72229694, 0.56950197,\n",
       "       0.04586737, 0.75192929, 0.04586737, 0.68982674, 0.02703665,\n",
       "       0.72229694, 0.96791628, 0.56950197, 0.68982674, 0.33099538,\n",
       "       0.12407483, 0.68133904, 0.47537685, 0.72229694, 0.40905099,\n",
       "       0.91127397, 0.96576202, 0.53688727, 0.73562263, 0.70927831,\n",
       "       0.33795969, 0.87569648, 0.01986972, 0.09352051, 0.23942651,\n",
       "       0.95490914, 0.76784898, 0.16702704, 0.08182816, 0.76879624,\n",
       "       0.88719805, 0.80250373, 0.10130173, 0.31289757, 0.92492543,\n",
       "       0.07759293, 0.52150241, 0.91127397, 0.96576202, 0.02703665,\n",
       "       0.04024978, 0.17991414, 0.24435933, 0.0657926 , 0.69432472,\n",
       "       0.53742684, 0.91127397, 0.96564189, 0.04757484, 0.43755801,\n",
       "       0.01510222, 0.12755867, 0.04757484, 0.48359025, 0.22481611,\n",
       "       0.400631  , 0.41236361, 0.03368699, 0.73562263, 0.76553781,\n",
       "       0.46069431, 0.16756188, 0.6082931 , 0.24087478, 0.20864611,\n",
       "       0.04757484, 0.24138121, 0.13820908, 0.48359025, 0.11719087,\n",
       "       0.88616651, 0.50518925, 0.42205951, 0.12407483, 0.04757484,\n",
       "       0.96576202, 0.52453203, 0.8930893 , 0.10108176, 0.96441925,\n",
       "       0.70139649, 0.93425049, 0.13449804, 0.70927831, 0.33795969,\n",
       "       0.35129217, 0.00856435, 0.97606189, 0.02703665, 0.02703665,\n",
       "       0.70927831, 0.73013163, 0.87569648, 0.04701115, 0.20870504,\n",
       "       0.80419767, 0.79288633, 0.46069431, 0.47537685, 0.85815256,\n",
       "       0.13784651, 0.13502583, 0.44619668, 0.02703665, 0.1930169 ,\n",
       "       0.24600667, 0.94723047, 0.94256855, 0.04586737, 0.73562263,\n",
       "       0.73852572, 0.78111183, 0.5021249 , 0.01986972, 0.32872342,\n",
       "       0.04757484, 0.91375474, 0.79288633, 0.91127397, 0.46519182,\n",
       "       0.0711813 , 0.98122513, 0.24087478, 0.38267263, 0.68982674,\n",
       "       0.67854736, 0.05400978, 0.96564189, 0.53688727, 0.40143304,\n",
       "       0.80093179, 0.10246127, 0.32519892, 0.79616263, 0.96441925,\n",
       "       0.95881212, 0.04757484, 0.76879624, 0.46728708, 0.73013163,\n",
       "       0.95364441, 0.85896055, 0.47502432, 0.56950197, 0.70927831,\n",
       "       0.96441925, 0.91375474, 0.32872342, 0.78111183, 0.78111183,\n",
       "       0.96576202, 0.75574029, 0.77032209, 0.52453203, 0.53307248,\n",
       "       0.6105614 , 0.56950197, 0.73013163, 0.90344989, 0.04701115,\n",
       "       0.11143437, 0.07747265, 0.32519892, 0.18405463, 0.06626839,\n",
       "       0.93802606, 0.13412658, 0.33795969, 0.13824288, 0.78111183,\n",
       "       0.96441925, 0.1456647 , 0.99628229, 0.82057981, 0.63984977,\n",
       "       0.17937866, 0.9190838 , 0.70927831, 0.61889049, 0.8660597 ,\n",
       "       0.80394009, 0.96564189, 0.96576202, 0.47537685, 0.92492543,\n",
       "       0.97306592, 0.97548383, 0.78111183, 0.80093179, 0.92194214,\n",
       "       0.98529025, 0.95881212, 0.99484505, 0.32519892, 0.52150241,\n",
       "       0.87569648, 0.26144984, 0.71131578, 0.14054782, 0.14875565,\n",
       "       0.2110399 , 0.13820908, 0.18593422, 0.24600667, 0.52446985,\n",
       "       0.7042059 , 0.44975988, 0.16840832, 0.32519892, 0.6105614 ,\n",
       "       0.40143304, 0.88719805, 0.70927831, 0.40669562, 0.95364441,\n",
       "       0.34955105, 0.04757484, 0.86235787, 0.13821607, 0.05735163,\n",
       "       0.52426185, 0.14267484, 0.50435771, 0.03368699, 0.77234845,\n",
       "       0.88616651, 0.97306592, 0.11539056, 0.68133904, 0.96779513,\n",
       "       0.86771257, 0.0657926 , 0.08182816, 0.9597252 , 0.34955105,\n",
       "       0.72229694, 0.93617847, 0.02246992, 0.83790467, 0.32519892,\n",
       "       0.05735163, 0.08500786, 0.98480152, 0.13103939, 0.21162676,\n",
       "       0.73201512, 0.06575789, 0.92492543, 0.97931054, 0.70927831,\n",
       "       0.91158347, 0.96791628, 0.23942651, 0.9634715 , 0.72229694,\n",
       "       0.2385405 , 0.52453203, 0.0629338 , 0.02703665, 0.78111183,\n",
       "       0.78111183, 0.0858823 , 0.23942651, 0.91535964, 0.86229855,\n",
       "       0.91127397, 0.87569648, 0.65515413, 0.35082025, 0.48359025,\n",
       "       0.9597252 , 0.53742684, 0.30481538, 0.24087478, 0.76879624,\n",
       "       0.95364441, 0.58914442, 0.92065759, 0.83038191, 0.72229694,\n",
       "       0.58914442, 0.95831655, 0.13412658, 0.18381964, 0.78111183,\n",
       "       0.78111183, 0.192001  , 0.35082025, 0.04757484, 0.05464606,\n",
       "       0.18453474, 0.32519892, 0.04757484])"
      ]
     },
     "execution_count": 9,
     "metadata": {},
     "output_type": "execute_result"
    }
   ],
   "source": [
    "q"
   ]
  },
  {
   "cell_type": "code",
   "execution_count": 10,
   "metadata": {},
   "outputs": [
    {
     "name": "stdout",
     "output_type": "stream",
     "text": [
      "3-Methyladipic acid 2 TMS 0.00296 0.04757\n",
      "Adenine 2 TMS 0.00059 0.02704\n",
      "Carbohydrate 19 0.0002 0.01987\n",
      "Gamma Aminobutyric acid 3 TMS 0.00047 0.02704\n",
      "Guanine 3 TMS 0.00339 0.04757\n",
      "Threonic acid 3 TMS 0.00297 0.04757\n",
      "Thymine 2 TMS 4e-05 0.01334\n",
      "unknown RT 11.098425 0.0029 0.04757\n",
      "unknown RT 11.3766 0.00338 0.04757\n",
      "unknown RT 12.094886 0.00105 0.03517\n",
      "unknown RT 15.244624 0.00177 0.04587\n",
      "unknown RT 15.689507 0.00239 0.04757\n",
      "unknown RT 16.036115 0.00259 0.04757\n",
      "unknown RT 16.281569 0.00183 0.04587\n",
      "unknown RT 16.40641 0.00311 0.04757\n",
      "unknown RT 16.528409 0.00173 0.04587\n",
      "unknown RT 16.585281 0.00173 0.04587\n",
      "unknown RT 16.648432 0.00056 0.02704\n",
      "unknown RT 17.185752 0.0002 0.01987\n",
      "unknown RT 17.697377 0.0006 0.02704\n",
      "unknown RT 17.738093 0.00127 0.04025\n",
      "unknown RT 17.990869 0.00278 0.04757\n",
      "unknown RT 18.026567 8e-05 0.0151\n",
      "unknown RT 18.045242 0.00254 0.04757\n",
      "unknown RT 18.196947 0.0009 0.03369\n",
      "unknown RT 18.42891 0.00271 0.04757\n",
      "unknown RT 18.657689 0.00258 0.04757\n",
      "unknown RT 19.018999 1e-05 0.00856\n",
      "unknown RT 19.071723 0.00047 0.02704\n",
      "unknown RT 19.08622 0.00064 0.02704\n",
      "unknown RT 19.247033 0.00203 0.04701\n",
      "unknown RT 19.673797 0.00052 0.02704\n",
      "unknown RT 19.778105 0.00172 0.04587\n",
      "unknown RT 19.896785 0.00017 0.01987\n",
      "unknown RT 19.97996 0.00218 0.04757\n",
      "unknown RT 20.641467 0.0032 0.04757\n",
      "unknown RT 21.567896 0.00199 0.04701\n",
      "unknown RT 3.947556 0.00333 0.04757\n",
      "unknown RT 4.771652 0.00095 0.03369\n",
      "unknown RT 7.123483 0.00026 0.02247\n",
      "unknown RT 8.462427 0.00067 0.02704\n",
      "Vanillylmandelic acid 3 TMS 0.00327 0.04757\n",
      "Xanthurenic acid 3 TMS 0.00302 0.04757\n",
      "43\n"
     ]
    }
   ],
   "source": [
    "pass_count = 0\n",
    "for count,q_val in enumerate(q):\n",
    "    p_val = round(rm_corr_df['Calories'].iloc[count],5)\n",
    "    metabolite = rm_corr_df.iloc[count].name\n",
    "    if q_val < 0.05:\n",
    "        pass_count += 1\n",
    "        print(metabolite,p_val,round(q_val,5))\n",
    "print(pass_count)"
   ]
  },
  {
   "cell_type": "code",
   "execution_count": 11,
   "metadata": {},
   "outputs": [],
   "source": [
    "from statsmodels.stats.multitest import multipletests\n",
    "rm_corr_qval_df = copy.deepcopy(rm_corr_df)\n",
    "for column in rm_corr_df.columns:\n",
    "    #m_corr_qval_df[column] = pg.fdr(rm_corr_df[column])[1]\n",
    "    rm_corr_qval_df[column] = multipletests(rm_corr_df[column], method='fdr_bh')[1]"
   ]
  },
  {
   "cell_type": "code",
   "execution_count": 12,
   "metadata": {},
   "outputs": [
    {
     "data": {
      "text/html": [
       "<div>\n",
       "<style scoped>\n",
       "    .dataframe tbody tr th:only-of-type {\n",
       "        vertical-align: middle;\n",
       "    }\n",
       "\n",
       "    .dataframe tbody tr th {\n",
       "        vertical-align: top;\n",
       "    }\n",
       "\n",
       "    .dataframe thead th {\n",
       "        text-align: right;\n",
       "    }\n",
       "</style>\n",
       "<table border=\"1\" class=\"dataframe\">\n",
       "  <thead>\n",
       "    <tr style=\"text-align: right;\">\n",
       "      <th></th>\n",
       "      <th>Calories</th>\n",
       "      <th>Calories from Alcohol</th>\n",
       "      <th>Carbohydrates (g)</th>\n",
       "      <th>Cholesterol (mg)</th>\n",
       "      <th>Coffee (fl. oz)</th>\n",
       "      <th>Fat (g)</th>\n",
       "      <th>Fiber (g)</th>\n",
       "      <th>Protein (g)</th>\n",
       "      <th>Saturated Fat (g)</th>\n",
       "      <th>Sodium (mg)</th>\n",
       "      <th>Sugars (g)</th>\n",
       "    </tr>\n",
       "  </thead>\n",
       "  <tbody>\n",
       "    <tr>\n",
       "      <th>2-Aminoadipic acid 3 TMS</th>\n",
       "      <td>0.656310</td>\n",
       "      <td>0.137029</td>\n",
       "      <td>0.995277</td>\n",
       "      <td>0.996490</td>\n",
       "      <td>0.670721</td>\n",
       "      <td>0.959216</td>\n",
       "      <td>0.665570</td>\n",
       "      <td>0.994516</td>\n",
       "      <td>0.985725</td>\n",
       "      <td>0.773327</td>\n",
       "      <td>0.916180</td>\n",
       "    </tr>\n",
       "    <tr>\n",
       "      <th>2-Aminobutyric acid 2 TMS</th>\n",
       "      <td>0.633819</td>\n",
       "      <td>0.893336</td>\n",
       "      <td>0.995277</td>\n",
       "      <td>0.996490</td>\n",
       "      <td>0.942392</td>\n",
       "      <td>0.702152</td>\n",
       "      <td>0.924616</td>\n",
       "      <td>0.994516</td>\n",
       "      <td>0.822729</td>\n",
       "      <td>0.904113</td>\n",
       "      <td>0.963970</td>\n",
       "    </tr>\n",
       "    <tr>\n",
       "      <th>2-Deoxypentonic acid</th>\n",
       "      <td>0.832785</td>\n",
       "      <td>0.318874</td>\n",
       "      <td>0.995277</td>\n",
       "      <td>0.998382</td>\n",
       "      <td>0.767291</td>\n",
       "      <td>0.947394</td>\n",
       "      <td>0.744454</td>\n",
       "      <td>0.994516</td>\n",
       "      <td>0.963487</td>\n",
       "      <td>0.845478</td>\n",
       "      <td>0.532802</td>\n",
       "    </tr>\n",
       "    <tr>\n",
       "      <th>2-Hydroxy-2-methylbutyric acid 2 TMS</th>\n",
       "      <td>0.732015</td>\n",
       "      <td>0.021720</td>\n",
       "      <td>0.995277</td>\n",
       "      <td>0.996490</td>\n",
       "      <td>0.883178</td>\n",
       "      <td>0.942549</td>\n",
       "      <td>0.829027</td>\n",
       "      <td>0.994516</td>\n",
       "      <td>0.893546</td>\n",
       "      <td>0.774238</td>\n",
       "      <td>0.856255</td>\n",
       "    </tr>\n",
       "    <tr>\n",
       "      <th>2-Hydroxyglutaric acid 3 TMS</th>\n",
       "      <td>0.942569</td>\n",
       "      <td>0.262234</td>\n",
       "      <td>0.995277</td>\n",
       "      <td>0.996490</td>\n",
       "      <td>0.217321</td>\n",
       "      <td>0.138195</td>\n",
       "      <td>0.590552</td>\n",
       "      <td>0.522548</td>\n",
       "      <td>0.186529</td>\n",
       "      <td>0.614322</td>\n",
       "      <td>0.794913</td>\n",
       "    </tr>\n",
       "  </tbody>\n",
       "</table>\n",
       "</div>"
      ],
      "text/plain": [
       "                                      Calories  Calories from Alcohol  \\\n",
       "2-Aminoadipic acid 3 TMS              0.656310               0.137029   \n",
       "2-Aminobutyric acid 2 TMS             0.633819               0.893336   \n",
       "2-Deoxypentonic acid                  0.832785               0.318874   \n",
       "2-Hydroxy-2-methylbutyric acid 2 TMS  0.732015               0.021720   \n",
       "2-Hydroxyglutaric acid 3 TMS          0.942569               0.262234   \n",
       "\n",
       "                                      Carbohydrates (g)  Cholesterol (mg)  \\\n",
       "2-Aminoadipic acid 3 TMS                       0.995277          0.996490   \n",
       "2-Aminobutyric acid 2 TMS                      0.995277          0.996490   \n",
       "2-Deoxypentonic acid                           0.995277          0.998382   \n",
       "2-Hydroxy-2-methylbutyric acid 2 TMS           0.995277          0.996490   \n",
       "2-Hydroxyglutaric acid 3 TMS                   0.995277          0.996490   \n",
       "\n",
       "                                      Coffee (fl. oz)   Fat (g)  Fiber (g)  \\\n",
       "2-Aminoadipic acid 3 TMS                     0.670721  0.959216   0.665570   \n",
       "2-Aminobutyric acid 2 TMS                    0.942392  0.702152   0.924616   \n",
       "2-Deoxypentonic acid                         0.767291  0.947394   0.744454   \n",
       "2-Hydroxy-2-methylbutyric acid 2 TMS         0.883178  0.942549   0.829027   \n",
       "2-Hydroxyglutaric acid 3 TMS                 0.217321  0.138195   0.590552   \n",
       "\n",
       "                                      Protein (g)  Saturated Fat (g)  \\\n",
       "2-Aminoadipic acid 3 TMS                 0.994516           0.985725   \n",
       "2-Aminobutyric acid 2 TMS                0.994516           0.822729   \n",
       "2-Deoxypentonic acid                     0.994516           0.963487   \n",
       "2-Hydroxy-2-methylbutyric acid 2 TMS     0.994516           0.893546   \n",
       "2-Hydroxyglutaric acid 3 TMS             0.522548           0.186529   \n",
       "\n",
       "                                      Sodium (mg)  Sugars (g)  \n",
       "2-Aminoadipic acid 3 TMS                 0.773327    0.916180  \n",
       "2-Aminobutyric acid 2 TMS                0.904113    0.963970  \n",
       "2-Deoxypentonic acid                     0.845478    0.532802  \n",
       "2-Hydroxy-2-methylbutyric acid 2 TMS     0.774238    0.856255  \n",
       "2-Hydroxyglutaric acid 3 TMS             0.614322    0.794913  "
      ]
     },
     "execution_count": 12,
     "metadata": {},
     "output_type": "execute_result"
    }
   ],
   "source": [
    "rm_corr_qval_df.head()\n",
    "#multipletests(rm_corr_df[column], method='fdr_bh')[1]\n",
    "#rm_corr_df[column]"
   ]
  },
  {
   "cell_type": "code",
   "execution_count": 13,
   "metadata": {},
   "outputs": [
    {
     "data": {
      "text/plain": [
       "array([[<matplotlib.axes._subplots.AxesSubplot object at 0x7fa2183a8b00>,\n",
       "        <matplotlib.axes._subplots.AxesSubplot object at 0x7fa238213dd8>,\n",
       "        <matplotlib.axes._subplots.AxesSubplot object at 0x7fa23822e780>],\n",
       "       [<matplotlib.axes._subplots.AxesSubplot object at 0x7fa1f823c128>,\n",
       "        <matplotlib.axes._subplots.AxesSubplot object at 0x7fa1f825da90>,\n",
       "        <matplotlib.axes._subplots.AxesSubplot object at 0x7fa1f828b438>],\n",
       "       [<matplotlib.axes._subplots.AxesSubplot object at 0x7fa1f82b1da0>,\n",
       "        <matplotlib.axes._subplots.AxesSubplot object at 0x7fa1f82de780>,\n",
       "        <matplotlib.axes._subplots.AxesSubplot object at 0x7fa1f82de7b8>],\n",
       "       [<matplotlib.axes._subplots.AxesSubplot object at 0x7fa1f8332a58>,\n",
       "        <matplotlib.axes._subplots.AxesSubplot object at 0x7fa1f8363400>,\n",
       "        <matplotlib.axes._subplots.AxesSubplot object at 0x7fa1f8388d68>]],\n",
       "      dtype=object)"
      ]
     },
     "execution_count": 13,
     "metadata": {},
     "output_type": "execute_result"
    },
    {
     "data": {
      "image/png": "[encoded data removed]",
      "text/plain": [
       "<Figure size 720x720 with 12 Axes>"
      ]
     },
     "metadata": {},
     "output_type": "display_data"
    }
   ],
   "source": [
    "rm_corr_qval_df.hist(bins=10, figsize=(10,10))"
   ]
  },
  {
   "cell_type": "code",
   "execution_count": 14,
   "metadata": {},
   "outputs": [],
   "source": [
    "rm_corr_qval_df.to_csv(\"shared_q_val.tsv\", sep=\"\\t\")"
   ]
  },
  {
   "cell_type": "markdown",
   "metadata": {},
   "source": [
    "### Now for exercise and sleep"
   ]
  },
  {
   "cell_type": "code",
   "execution_count": 15,
   "metadata": {},
   "outputs": [],
   "source": [
    "subject1_df = pd.read_excel(data_path, sheet_name=\"log2_robust_spearman_p-vals\")"
   ]
  },
  {
   "cell_type": "code",
   "execution_count": 16,
   "metadata": {},
   "outputs": [],
   "source": [
    "subject1_qval_df = copy.deepcopy(subject1_df)\n",
    "for column in subject1_df.columns:\n",
    "    subject1_qval_df[column] = pg.fdr(subject1_df[column])[1]"
   ]
  },
  {
   "cell_type": "code",
   "execution_count": 17,
   "metadata": {},
   "outputs": [
    {
     "data": {
      "text/plain": [
       "array([[<matplotlib.axes._subplots.AxesSubplot object at 0x7fa248480ef0>,\n",
       "        <matplotlib.axes._subplots.AxesSubplot object at 0x7fa1e8bcc2b0>]],\n",
       "      dtype=object)"
      ]
     },
     "execution_count": 17,
     "metadata": {},
     "output_type": "execute_result"
    },
    {
     "data": {
      "image/png": "[encoded data removed]",
      "text/plain": [
       "<Figure size 432x288 with 2 Axes>"
      ]
     },
     "metadata": {},
     "output_type": "display_data"
    }
   ],
   "source": [
    "subject1_qval_df.hist(bins=10)"
   ]
  },
  {
   "cell_type": "code",
   "execution_count": 18,
   "metadata": {},
   "outputs": [],
   "source": [
    "subject1_qval_df.to_csv(\"log2_robust_spearman_q-vals.tsv\", sep=\"\\t\")"
   ]
  },
  {
   "cell_type": "code",
   "execution_count": null,
   "metadata": {},
   "outputs": [],
   "source": []
  }
 ],
 "metadata": {
  "kernelspec": {
   "display_name": "Python 3",
   "language": "python",
   "name": "python3"
  },
  "language_info": {
   "codemirror_mode": {
    "name": "ipython",
    "version": 3
   },
   "file_extension": ".py",
   "mimetype": "text/x-python",
   "name": "python",
   "nbconvert_exporter": "python",
   "pygments_lexer": "ipython3",
   "version": "3.6.5"
  }
 },
 "nbformat": 4,
 "nbformat_minor": 2
}
