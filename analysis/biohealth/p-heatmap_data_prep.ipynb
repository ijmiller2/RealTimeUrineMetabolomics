{
 "cells": [
  {
   "cell_type": "code",
   "execution_count": 3,
   "metadata": {},
   "outputs": [],
   "source": [
    "import pandas as pd\n",
    "import pingouin as pg\n",
    "import numpy as np\n",
    "import copy"
   ]
  },
  {
   "cell_type": "code",
   "execution_count": 4,
   "metadata": {},
   "outputs": [],
   "source": [
    "# read in data\n",
    "biometric_df = pd.read_excel(\"../../data/combined_sample_data.xlsx\",\n",
    "    sheet_name=\"BiometricsAveragedMSData\")"
   ]
  },
  {
   "cell_type": "code",
   "execution_count": 5,
   "metadata": {},
   "outputs": [
    {
     "data": {
      "text/plain": [
       "Index(['Sleep (hrs)', 'Active Calories'], dtype='object')"
      ]
     },
     "execution_count": 5,
     "metadata": {},
     "output_type": "execute_result"
    }
   ],
   "source": [
    "# only for Subject 1\n",
    "extra_biometrics = biometric_df.columns[13:15]\n",
    "extra_biometrics"
   ]
  },
  {
   "cell_type": "code",
   "execution_count": 6,
   "metadata": {},
   "outputs": [],
   "source": [
    "# metabolite list\n",
    "metabolites = biometric_df.columns[18:]"
   ]
  },
  {
   "cell_type": "code",
   "execution_count": 7,
   "metadata": {},
   "outputs": [
    {
     "data": {
      "text/plain": [
       "Index(['2-Aminoadipic acid 3 TMS', '2-Aminobutyric acid 2 TMS',\n",
       "       '2-Deoxypentonic acid ', '2-Hydroxy-2-methylbutyric acid 2 TMS',\n",
       "       '2-Hydroxyglutaric acid 3 TMS',\n",
       "       '2-Hydroxyglutaric acid-1-ethyl ester 2 TMS',\n",
       "       '2,3-Dihydroxybutanoic acid 3 TMS',\n",
       "       '3-(3-Hydroxyphenyl)propanoic acid 2 TMS', '3-Deoxytetronic acid 3 TMS',\n",
       "       '3-Hydroxybutyric acid 2 TMS',\n",
       "       ...\n",
       "       'unknown RT 9.99241', 'Urea 2 TMS', 'Uric acid 4 TMS', 'Valine 2 TMS',\n",
       "       'Vanillactic acid 2 TMS', 'Vanillylmandelic acid 3 TMS',\n",
       "       'Xanthine 3 TMS', 'Xanthopterin 3 TMS', 'Xanthosine 5 TMS',\n",
       "       'Xanthurenic acid 3 TMS'],\n",
       "      dtype='object', length=603)"
      ]
     },
     "execution_count": 7,
     "metadata": {},
     "output_type": "execute_result"
    }
   ],
   "source": [
    "metabolites"
   ]
  },
  {
   "cell_type": "code",
   "execution_count": 8,
   "metadata": {},
   "outputs": [],
   "source": [
    "# function to generate a dataframe with model correlation results\n",
    "def return_corr_stats_df(dataframe, metabolite_list, biometric_list, log=True, subject=\"Single\"):\n",
    "\n",
    "    corr_dict = {}\n",
    "    p_val_dict = {}\n",
    "    # populate dictionary with dictionary for each metabolite\n",
    "    for metabolite in metabolite_list:\n",
    "        corr_dict[metabolite] = {}\n",
    "        p_val_dict[metabolite] = {}\n",
    "\n",
    "    # calculate correlation coef\n",
    "    for metabolite in metabolites:\n",
    "        for biometric in biometric_list:\n",
    "            if log:\n",
    "                data1, data2 = dataframe[biometric], np.log2(dataframe[metabolite])\n",
    "            else:\n",
    "                data1, data2 = dataframe[biometric], dataframe[metabolite]\n",
    "                \n",
    "            if subject==\"Both\":\n",
    "                rm_data = pd.DataFrame({'x':data1, 'y':data2, 'Subject':dataframe['Subject']})\n",
    "                # output is different in the version of pingouin (compared to docs)\n",
    "                r, p, dof = pg.rm_corr(data=rm_data, x='x',y='y', subject='Subject')\n",
    "                corr_data = {'r':r, 'p-val':p, 'dof':dof}\n",
    "            else:\n",
    "                corr_data  = pg.corr(data1, data2, method='skipped').iloc[0].to_dict()\n",
    "            corr_dict[metabolite][biometric] = corr_data\n",
    "\n",
    "    corr_output_dataframe = pd.DataFrame(corr_dict).T\n",
    "\n",
    "    return corr_output_dataframe"
   ]
  },
  {
   "cell_type": "code",
   "execution_count": 9,
   "metadata": {},
   "outputs": [],
   "source": [
    "# grab data subset for subject 1\n",
    "subject1_biometric_df = biometric_df[biometric_df['Subject'] == \"Subject1\"]\n",
    "\n",
    "# get corr data\n",
    "subject1_corr_df = return_corr_stats_df(subject1_biometric_df, metabolites, extra_biometrics)"
   ]
  },
  {
   "cell_type": "code",
   "execution_count": 10,
   "metadata": {},
   "outputs": [
    {
     "data": {
      "text/html": [
       "<div>\n",
       "<style scoped>\n",
       "    .dataframe tbody tr th:only-of-type {\n",
       "        vertical-align: middle;\n",
       "    }\n",
       "\n",
       "    .dataframe tbody tr th {\n",
       "        vertical-align: top;\n",
       "    }\n",
       "\n",
       "    .dataframe thead th {\n",
       "        text-align: right;\n",
       "    }\n",
       "</style>\n",
       "<table border=\"1\" class=\"dataframe\">\n",
       "  <thead>\n",
       "    <tr style=\"text-align: right;\">\n",
       "      <th></th>\n",
       "      <th>Active Calories</th>\n",
       "      <th>Sleep (hrs)</th>\n",
       "    </tr>\n",
       "  </thead>\n",
       "  <tbody>\n",
       "    <tr>\n",
       "      <th>2-Aminoadipic acid 3 TMS</th>\n",
       "      <td>{'n': 8, 'outliers': 1, 'r': 0.5, 'CI95%': [-0...</td>\n",
       "      <td>{'n': 8, 'outliers': 1, 'r': -0.143, 'CI95%': ...</td>\n",
       "    </tr>\n",
       "    <tr>\n",
       "      <th>2-Aminobutyric acid 2 TMS</th>\n",
       "      <td>{'n': 8, 'outliers': 0, 'r': 0.024, 'CI95%': [...</td>\n",
       "      <td>{'n': 8, 'outliers': 1, 'r': 0.643, 'CI95%': [...</td>\n",
       "    </tr>\n",
       "    <tr>\n",
       "      <th>2-Deoxypentonic acid</th>\n",
       "      <td>{'n': 8, 'outliers': 0, 'r': 0.571, 'CI95%': [...</td>\n",
       "      <td>{'n': 8, 'outliers': 1, 'r': -0.357, 'CI95%': ...</td>\n",
       "    </tr>\n",
       "    <tr>\n",
       "      <th>2-Hydroxy-2-methylbutyric acid 2 TMS</th>\n",
       "      <td>{'n': 8, 'outliers': 1, 'r': 0.964, 'CI95%': [...</td>\n",
       "      <td>{'n': 8, 'outliers': 1, 'r': 0.214, 'CI95%': [...</td>\n",
       "    </tr>\n",
       "    <tr>\n",
       "      <th>2-Hydroxyglutaric acid 3 TMS</th>\n",
       "      <td>{'n': 8, 'outliers': 0, 'r': 0.286, 'CI95%': [...</td>\n",
       "      <td>{'n': 8, 'outliers': 1, 'r': 0.179, 'CI95%': [...</td>\n",
       "    </tr>\n",
       "  </tbody>\n",
       "</table>\n",
       "</div>"
      ],
      "text/plain": [
       "                                                                        Active Calories  \\\n",
       "2-Aminoadipic acid 3 TMS              {'n': 8, 'outliers': 1, 'r': 0.5, 'CI95%': [-0...   \n",
       "2-Aminobutyric acid 2 TMS             {'n': 8, 'outliers': 0, 'r': 0.024, 'CI95%': [...   \n",
       "2-Deoxypentonic acid                  {'n': 8, 'outliers': 0, 'r': 0.571, 'CI95%': [...   \n",
       "2-Hydroxy-2-methylbutyric acid 2 TMS  {'n': 8, 'outliers': 1, 'r': 0.964, 'CI95%': [...   \n",
       "2-Hydroxyglutaric acid 3 TMS          {'n': 8, 'outliers': 0, 'r': 0.286, 'CI95%': [...   \n",
       "\n",
       "                                                                            Sleep (hrs)  \n",
       "2-Aminoadipic acid 3 TMS              {'n': 8, 'outliers': 1, 'r': -0.143, 'CI95%': ...  \n",
       "2-Aminobutyric acid 2 TMS             {'n': 8, 'outliers': 1, 'r': 0.643, 'CI95%': [...  \n",
       "2-Deoxypentonic acid                  {'n': 8, 'outliers': 1, 'r': -0.357, 'CI95%': ...  \n",
       "2-Hydroxy-2-methylbutyric acid 2 TMS  {'n': 8, 'outliers': 1, 'r': 0.214, 'CI95%': [...  \n",
       "2-Hydroxyglutaric acid 3 TMS          {'n': 8, 'outliers': 1, 'r': 0.179, 'CI95%': [...  "
      ]
     },
     "execution_count": 10,
     "metadata": {},
     "output_type": "execute_result"
    }
   ],
   "source": [
    "subject1_corr_df.head()"
   ]
  },
  {
   "cell_type": "code",
   "execution_count": 11,
   "metadata": {},
   "outputs": [
    {
     "data": {
      "text/plain": [
       "{'n': 8,\n",
       " 'outliers': 1,\n",
       " 'r': 0.5,\n",
       " 'CI95%': array([-0.32,  0.89]),\n",
       " 'r2': 0.25,\n",
       " 'adj_r2': -0.05,\n",
       " 'p-val': 0.25316999510032273,\n",
       " 'power': 0.255}"
      ]
     },
     "execution_count": 11,
     "metadata": {},
     "output_type": "execute_result"
    }
   ],
   "source": [
    "subject1_corr_df.iloc[0]['Active Calories']"
   ]
  },
  {
   "cell_type": "code",
   "execution_count": 12,
   "metadata": {},
   "outputs": [
    {
     "data": {
      "text/html": [
       "<div>\n",
       "<style scoped>\n",
       "    .dataframe tbody tr th:only-of-type {\n",
       "        vertical-align: middle;\n",
       "    }\n",
       "\n",
       "    .dataframe tbody tr th {\n",
       "        vertical-align: top;\n",
       "    }\n",
       "\n",
       "    .dataframe thead th {\n",
       "        text-align: right;\n",
       "    }\n",
       "</style>\n",
       "<table border=\"1\" class=\"dataframe\">\n",
       "  <thead>\n",
       "    <tr style=\"text-align: right;\">\n",
       "      <th></th>\n",
       "      <th>Active Calories</th>\n",
       "      <th>Sleep (hrs)</th>\n",
       "    </tr>\n",
       "  </thead>\n",
       "  <tbody>\n",
       "    <tr>\n",
       "      <th>2-Aminoadipic acid 3 TMS</th>\n",
       "      <td>0.500</td>\n",
       "      <td>-0.143</td>\n",
       "    </tr>\n",
       "    <tr>\n",
       "      <th>2-Aminobutyric acid 2 TMS</th>\n",
       "      <td>0.024</td>\n",
       "      <td>0.643</td>\n",
       "    </tr>\n",
       "    <tr>\n",
       "      <th>2-Deoxypentonic acid</th>\n",
       "      <td>0.571</td>\n",
       "      <td>-0.357</td>\n",
       "    </tr>\n",
       "    <tr>\n",
       "      <th>2-Hydroxy-2-methylbutyric acid 2 TMS</th>\n",
       "      <td>0.964</td>\n",
       "      <td>0.214</td>\n",
       "    </tr>\n",
       "    <tr>\n",
       "      <th>2-Hydroxyglutaric acid 3 TMS</th>\n",
       "      <td>0.286</td>\n",
       "      <td>0.179</td>\n",
       "    </tr>\n",
       "  </tbody>\n",
       "</table>\n",
       "</div>"
      ],
      "text/plain": [
       "                                      Active Calories  Sleep (hrs)\n",
       "2-Aminoadipic acid 3 TMS                        0.500       -0.143\n",
       "2-Aminobutyric acid 2 TMS                       0.024        0.643\n",
       "2-Deoxypentonic acid                            0.571       -0.357\n",
       "2-Hydroxy-2-methylbutyric acid 2 TMS            0.964        0.214\n",
       "2-Hydroxyglutaric acid 3 TMS                    0.286        0.179"
      ]
     },
     "execution_count": 12,
     "metadata": {},
     "output_type": "execute_result"
    }
   ],
   "source": [
    "# function to extract a data frame for any key in pingouin output dictionary\n",
    "def return_stat_df(corr_df, stat='r'):\n",
    "    \n",
    "    stat_df = copy.deepcopy(corr_df)\n",
    "    \n",
    "    for metabolite,row in corr_df.iterrows():\n",
    "        for column in corr_df.columns:\n",
    "            stat_df.loc[metabolite][column] = corr_df.loc[metabolite][column][stat]\n",
    "    \n",
    "    stat_df = stat_df.astype(\"float64\")\n",
    "    \n",
    "    return stat_df\n",
    "\n",
    "return_stat_df(subject1_corr_df).head()"
   ]
  },
  {
   "cell_type": "code",
   "execution_count": 13,
   "metadata": {},
   "outputs": [
    {
     "data": {
      "text/html": [
       "<div>\n",
       "<style scoped>\n",
       "    .dataframe tbody tr th:only-of-type {\n",
       "        vertical-align: middle;\n",
       "    }\n",
       "\n",
       "    .dataframe tbody tr th {\n",
       "        vertical-align: top;\n",
       "    }\n",
       "\n",
       "    .dataframe thead th {\n",
       "        text-align: right;\n",
       "    }\n",
       "</style>\n",
       "<table border=\"1\" class=\"dataframe\">\n",
       "  <thead>\n",
       "    <tr style=\"text-align: right;\">\n",
       "      <th></th>\n",
       "      <th>Active Calories</th>\n",
       "      <th>Sleep (hrs)</th>\n",
       "    </tr>\n",
       "  </thead>\n",
       "  <tbody>\n",
       "    <tr>\n",
       "      <th>2-Aminoadipic acid 3 TMS</th>\n",
       "      <td>0.253170</td>\n",
       "      <td>0.759945</td>\n",
       "    </tr>\n",
       "    <tr>\n",
       "      <th>2-Aminobutyric acid 2 TMS</th>\n",
       "      <td>0.955374</td>\n",
       "      <td>0.119392</td>\n",
       "    </tr>\n",
       "    <tr>\n",
       "      <th>2-Deoxypentonic acid</th>\n",
       "      <td>0.138960</td>\n",
       "      <td>0.431611</td>\n",
       "    </tr>\n",
       "    <tr>\n",
       "      <th>2-Hydroxy-2-methylbutyric acid 2 TMS</th>\n",
       "      <td>0.000454</td>\n",
       "      <td>0.644512</td>\n",
       "    </tr>\n",
       "    <tr>\n",
       "      <th>2-Hydroxyglutaric acid 3 TMS</th>\n",
       "      <td>0.492726</td>\n",
       "      <td>0.701658</td>\n",
       "    </tr>\n",
       "  </tbody>\n",
       "</table>\n",
       "</div>"
      ],
      "text/plain": [
       "                                      Active Calories  Sleep (hrs)\n",
       "2-Aminoadipic acid 3 TMS                     0.253170     0.759945\n",
       "2-Aminobutyric acid 2 TMS                    0.955374     0.119392\n",
       "2-Deoxypentonic acid                         0.138960     0.431611\n",
       "2-Hydroxy-2-methylbutyric acid 2 TMS         0.000454     0.644512\n",
       "2-Hydroxyglutaric acid 3 TMS                 0.492726     0.701658"
      ]
     },
     "execution_count": 13,
     "metadata": {},
     "output_type": "execute_result"
    }
   ],
   "source": [
    "subject1_p_val_df = return_stat_df(subject1_corr_df, stat='p-val')\n",
    "subject1_p_val_df.head()"
   ]
  },
  {
   "cell_type": "code",
   "execution_count": 14,
   "metadata": {},
   "outputs": [
    {
     "data": {
      "text/plain": [
       "array([[<matplotlib.axes._subplots.AxesSubplot object at 0x7ff978a64358>,\n",
       "        <matplotlib.axes._subplots.AxesSubplot object at 0x7ff9789deb38>]],\n",
       "      dtype=object)"
      ]
     },
     "execution_count": 14,
     "metadata": {},
     "output_type": "execute_result"
    },
    {
     "data": {
      "image/png": "[encoded data removed]",
      "text/plain": [
       "<Figure size 432x288 with 2 Axes>"
      ]
     },
     "metadata": {},
     "output_type": "display_data"
    }
   ],
   "source": [
    "subject1_p_val_df.hist()"
   ]
  },
  {
   "cell_type": "code",
   "execution_count": 14,
   "metadata": {},
   "outputs": [],
   "source": [
    "# save output to .tsv(s)\n",
    "subject1_corr_df.to_csv(\"subject1_corr.tsv\", sep=\"\\t\")\n",
    "subject1_p_val_df.to_csv(\"subject1_p_val.tsv\", sep=\"\\t\")\n",
    "return_stat_df(subject1_corr_df, stat='r').to_csv(\"subject1_coef.tsv\", sep=\"\\t\")"
   ]
  },
  {
   "cell_type": "markdown",
   "metadata": {},
   "source": [
    " ### Apply same approach to rm_corr"
   ]
  },
  {
   "cell_type": "code",
   "execution_count": 15,
   "metadata": {},
   "outputs": [
    {
     "data": {
      "text/plain": [
       "Index(['Calories', 'Fat (g)', 'Protein (g)', 'Carbohydrates (g)',\n",
       "       'Saturated Fat (g)', 'Sugars (g)', 'Fiber (g)', 'Cholesterol (mg)',\n",
       "       'Sodium (mg)', 'Calories from Alcohol', 'Coffee (fl. oz)'],\n",
       "      dtype='object')"
      ]
     },
     "execution_count": 15,
     "metadata": {},
     "output_type": "execute_result"
    }
   ],
   "source": [
    "# for both subject\n",
    "shared_biometrics = biometric_df.columns[2:13]\n",
    "shared_biometrics"
   ]
  },
  {
   "cell_type": "code",
   "execution_count": 16,
   "metadata": {},
   "outputs": [],
   "source": [
    "shared_corr_df = return_corr_stats_df(\n",
    "    biometric_df, metabolites, shared_biometrics, subject=\"Both\")"
   ]
  },
  {
   "cell_type": "code",
   "execution_count": 17,
   "metadata": {},
   "outputs": [
    {
     "data": {
      "text/plain": [
       "array([[<matplotlib.axes._subplots.AxesSubplot object at 0x7ff998410710>,\n",
       "        <matplotlib.axes._subplots.AxesSubplot object at 0x7ff9a87c5b38>,\n",
       "        <matplotlib.axes._subplots.AxesSubplot object at 0x7ff9984277b8>],\n",
       "       [<matplotlib.axes._subplots.AxesSubplot object at 0x7ff9c8154860>,\n",
       "        <matplotlib.axes._subplots.AxesSubplot object at 0x7ff9c817ceb8>,\n",
       "        <matplotlib.axes._subplots.AxesSubplot object at 0x7ff9c81c0550>],\n",
       "       [<matplotlib.axes._subplots.AxesSubplot object at 0x7ff9c81e8ba8>,\n",
       "        <matplotlib.axes._subplots.AxesSubplot object at 0x7ff9c8217278>,\n",
       "        <matplotlib.axes._subplots.AxesSubplot object at 0x7ff9c82172b0>],\n",
       "       [<matplotlib.axes._subplots.AxesSubplot object at 0x7ff9c8265ef0>,\n",
       "        <matplotlib.axes._subplots.AxesSubplot object at 0x7ff9d8504588>,\n",
       "        <matplotlib.axes._subplots.AxesSubplot object at 0x7ff9d8528ef0>]],\n",
       "      dtype=object)"
      ]
     },
     "execution_count": 17,
     "metadata": {},
     "output_type": "execute_result"
    },
    {
     "data": {
      "image/png": "[encoded data removed]",
      "text/plain": [
       "<Figure size 720x720 with 12 Axes>"
      ]
     },
     "metadata": {},
     "output_type": "display_data"
    }
   ],
   "source": [
    "shared_p_val_df = return_stat_df(shared_corr_df, stat='p-val')\n",
    "shared_p_val_df.hist(figsize=(10,10))"
   ]
  },
  {
   "cell_type": "code",
   "execution_count": 18,
   "metadata": {},
   "outputs": [],
   "source": [
    "# write out data\n",
    "shared_corr_df.to_csv(\"shared_corr.tsv\", sep=\"\\t\")\n",
    "shared_p_val_df.to_csv(\"shared_p_val.tsv\", sep=\"\\t\")\n",
    "return_stat_df(shared_corr_df, stat='r').to_csv(\"shared_coef.tsv\", sep=\"\\t\")"
   ]
  },
  {
   "cell_type": "code",
   "execution_count": null,
   "metadata": {},
   "outputs": [],
   "source": []
  }
 ],
 "metadata": {
  "kernelspec": {
   "display_name": "Python 3",
   "language": "python",
   "name": "python3"
  },
  "language_info": {
   "codemirror_mode": {
    "name": "ipython",
    "version": 3
   },
   "file_extension": ".py",
   "mimetype": "text/x-python",
   "name": "python",
   "nbconvert_exporter": "python",
   "pygments_lexer": "ipython3",
   "version": "3.6.5"
  }
 },
 "nbformat": 4,
 "nbformat_minor": 2
}
